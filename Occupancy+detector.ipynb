{
 "cells": [
  {
   "cell_type": "markdown",
   "metadata": {
    "collapsed": true
   },
   "source": [
    "## Accurate occupancy detection in an office room\n",
    "\n",
    "This task deals in predicting the occupancy of an office room using different statistical models.\n",
    "\n",
    "This was achieved with the help of reliable sensor data measuing temperature, Humidity, Light and CO2 in the office room with a camera for ground truth occupany data.\n",
    "\n",
    "Humidity ratio (W) was calculated with the measured temperature and relative Humidity in the room.\n",
    "\n",
    "We have used three datasets in this work, one for training and two for testing our statistical model.\n",
    "\n",
    "Statistical models:\n",
    "\n",
    "1) Logistics regression\n",
    "\n",
    "2) Random Forect Classifier\n",
    "\n",
    "This work deals in training our two statistical models on given training datasets and then comparing their predictive accuracy on given test datasets.\n",
    "\n",
    "The intuition behind our work is to analyse which statistical model proves to fit better while dealing with the given number of features and their parameters in the datasets.\n",
    "\n",
    "\n",
    "\n"
   ]
  },
  {
   "cell_type": "code",
   "execution_count": 1,
   "metadata": {
    "collapsed": true
   },
   "outputs": [],
   "source": [
    "# Import Pandas for efficient data handling \n",
    "# Import Numpy for efficient scientific computing\n",
    "import pandas as pd\n",
    "import numpy as np"
   ]
  },
  {
   "cell_type": "code",
   "execution_count": 2,
   "metadata": {
    "collapsed": true
   },
   "outputs": [],
   "source": [
    "#Reading the given datatraining.csv file\n",
    "df= pd.read_csv('datatraining.csv', header=0, delim_whitespace=False, na_values='?', index_col=None)"
   ]
  },
  {
   "cell_type": "code",
   "execution_count": 3,
   "metadata": {},
   "outputs": [
    {
     "data": {
      "text/html": [
       "<div>\n",
       "<style>\n",
       "    .dataframe thead tr:only-child th {\n",
       "        text-align: right;\n",
       "    }\n",
       "\n",
       "    .dataframe thead th {\n",
       "        text-align: left;\n",
       "    }\n",
       "\n",
       "    .dataframe tbody tr th {\n",
       "        vertical-align: top;\n",
       "    }\n",
       "</style>\n",
       "<table border=\"1\" class=\"dataframe\">\n",
       "  <thead>\n",
       "    <tr style=\"text-align: right;\">\n",
       "      <th></th>\n",
       "      <th>No.</th>\n",
       "      <th>Date</th>\n",
       "      <th>Time</th>\n",
       "      <th>Temperature</th>\n",
       "      <th>Humidity</th>\n",
       "      <th>Light</th>\n",
       "      <th>CO2</th>\n",
       "      <th>HumidityRatio</th>\n",
       "      <th>Occupancy</th>\n",
       "    </tr>\n",
       "  </thead>\n",
       "  <tbody>\n",
       "    <tr>\n",
       "      <th>0</th>\n",
       "      <td>1</td>\n",
       "      <td>2/4/15 0:00</td>\n",
       "      <td>5:51:00 PM</td>\n",
       "      <td>23.18</td>\n",
       "      <td>27.2720</td>\n",
       "      <td>426.0</td>\n",
       "      <td>721.25</td>\n",
       "      <td>0.004793</td>\n",
       "      <td>1</td>\n",
       "    </tr>\n",
       "    <tr>\n",
       "      <th>1</th>\n",
       "      <td>2</td>\n",
       "      <td>2/4/15 0:00</td>\n",
       "      <td>5:51:59 PM</td>\n",
       "      <td>23.15</td>\n",
       "      <td>27.2675</td>\n",
       "      <td>429.5</td>\n",
       "      <td>714.00</td>\n",
       "      <td>0.004783</td>\n",
       "      <td>1</td>\n",
       "    </tr>\n",
       "    <tr>\n",
       "      <th>2</th>\n",
       "      <td>3</td>\n",
       "      <td>2/4/15 0:00</td>\n",
       "      <td>5:53:00 PM</td>\n",
       "      <td>23.15</td>\n",
       "      <td>27.2450</td>\n",
       "      <td>426.0</td>\n",
       "      <td>713.50</td>\n",
       "      <td>0.004779</td>\n",
       "      <td>1</td>\n",
       "    </tr>\n",
       "    <tr>\n",
       "      <th>3</th>\n",
       "      <td>4</td>\n",
       "      <td>2/4/15 0:00</td>\n",
       "      <td>5:54:00 PM</td>\n",
       "      <td>23.15</td>\n",
       "      <td>27.2000</td>\n",
       "      <td>426.0</td>\n",
       "      <td>708.25</td>\n",
       "      <td>0.004772</td>\n",
       "      <td>1</td>\n",
       "    </tr>\n",
       "    <tr>\n",
       "      <th>4</th>\n",
       "      <td>5</td>\n",
       "      <td>2/4/15 0:00</td>\n",
       "      <td>5:55:00 PM</td>\n",
       "      <td>23.10</td>\n",
       "      <td>27.2000</td>\n",
       "      <td>426.0</td>\n",
       "      <td>704.50</td>\n",
       "      <td>0.004757</td>\n",
       "      <td>1</td>\n",
       "    </tr>\n",
       "    <tr>\n",
       "      <th>5</th>\n",
       "      <td>6</td>\n",
       "      <td>2/4/15 0:00</td>\n",
       "      <td>5:55:59 PM</td>\n",
       "      <td>23.10</td>\n",
       "      <td>27.2000</td>\n",
       "      <td>419.0</td>\n",
       "      <td>701.00</td>\n",
       "      <td>0.004757</td>\n",
       "      <td>1</td>\n",
       "    </tr>\n",
       "  </tbody>\n",
       "</table>\n",
       "</div>"
      ],
      "text/plain": [
       "   No.         Date        Time  Temperature  Humidity  Light     CO2  \\\n",
       "0    1  2/4/15 0:00  5:51:00 PM        23.18   27.2720  426.0  721.25   \n",
       "1    2  2/4/15 0:00  5:51:59 PM        23.15   27.2675  429.5  714.00   \n",
       "2    3  2/4/15 0:00  5:53:00 PM        23.15   27.2450  426.0  713.50   \n",
       "3    4  2/4/15 0:00  5:54:00 PM        23.15   27.2000  426.0  708.25   \n",
       "4    5  2/4/15 0:00  5:55:00 PM        23.10   27.2000  426.0  704.50   \n",
       "5    6  2/4/15 0:00  5:55:59 PM        23.10   27.2000  419.0  701.00   \n",
       "\n",
       "   HumidityRatio  Occupancy  \n",
       "0       0.004793          1  \n",
       "1       0.004783          1  \n",
       "2       0.004779          1  \n",
       "3       0.004772          1  \n",
       "4       0.004757          1  \n",
       "5       0.004757          1  "
      ]
     },
     "execution_count": 3,
     "metadata": {},
     "output_type": "execute_result"
    }
   ],
   "source": [
    "df.head(6)       #Checking our data"
   ]
  },
  {
   "cell_type": "code",
   "execution_count": 4,
   "metadata": {},
   "outputs": [
    {
     "data": {
      "text/plain": [
       "Index(['No.', 'Date', 'Time', 'Temperature', 'Humidity', 'Light', 'CO2',\n",
       "       'HumidityRatio', 'Occupancy'],\n",
       "      dtype='object')"
      ]
     },
     "execution_count": 4,
     "metadata": {},
     "output_type": "execute_result"
    }
   ],
   "source": [
    "df.keys()       #Printing all coloums values"
   ]
  },
  {
   "cell_type": "markdown",
   "metadata": {},
   "source": [
    "Storing the 'Occupancy' column in a Ytrain variable"
   ]
  },
  {
   "cell_type": "code",
   "execution_count": 5,
   "metadata": {},
   "outputs": [],
   "source": [
    "ytrain=df['Occupancy']    #Storing the 'Occupancy' column in a Ytrain variable"
   ]
  },
  {
   "cell_type": "markdown",
   "metadata": {},
   "source": [
    "Extracting our features from file."
   ]
  },
  {
   "cell_type": "code",
   "execution_count": 6,
   "metadata": {},
   "outputs": [],
   "source": [
    "xtrain=df[['Temperature','Humidity','Light','CO2','HumidityRatio']]  #Extracting our features from file."
   ]
  },
  {
   "cell_type": "code",
   "execution_count": 7,
   "metadata": {},
   "outputs": [
    {
     "name": "stdout",
     "output_type": "stream",
     "text": [
      "The shape of our target training data : (8143,)\n"
     ]
    }
   ],
   "source": [
    "print('The shape of our target training data :',ytrain.shape)"
   ]
  },
  {
   "cell_type": "code",
   "execution_count": 8,
   "metadata": {},
   "outputs": [
    {
     "name": "stdout",
     "output_type": "stream",
     "text": [
      "The shape of our feature training data : (8143, 5)\n"
     ]
    }
   ],
   "source": [
    "print('The shape of our feature training data :',xtrain.shape)"
   ]
  },
  {
   "cell_type": "markdown",
   "metadata": {},
   "source": [
    "Now that we have extracted our training dataset, we are ready to train it on our two statistic models."
   ]
  },
  {
   "cell_type": "markdown",
   "metadata": {},
   "source": [
    "# Logistic Regression Classifier Model\n",
    "\n",
    "We will proceed with our first model : Logistic Regression Classifier."
   ]
  },
  {
   "cell_type": "code",
   "execution_count": 9,
   "metadata": {
    "collapsed": true
   },
   "outputs": [],
   "source": [
    "#Importing linear_model package\n",
    "from sklearn import linear_model    "
   ]
  },
  {
   "cell_type": "code",
   "execution_count": 10,
   "metadata": {
    "collapsed": true
   },
   "outputs": [],
   "source": [
    "logregr=linear_model.LogisticRegression(penalty='l2', C=1.0)  #Creating a logistic regression variable."
   ]
  },
  {
   "cell_type": "code",
   "execution_count": 11,
   "metadata": {},
   "outputs": [
    {
     "data": {
      "text/plain": [
       "LogisticRegression(C=1.0, class_weight=None, dual=False, fit_intercept=True,\n",
       "          intercept_scaling=1, max_iter=100, multi_class='ovr', n_jobs=1,\n",
       "          penalty='l2', random_state=None, solver='liblinear', tol=0.0001,\n",
       "          verbose=0, warm_start=False)"
      ]
     },
     "execution_count": 11,
     "metadata": {},
     "output_type": "execute_result"
    }
   ],
   "source": [
    "#Fitting our training dataset.\n",
    "\n",
    "logregr.fit(xtrain, ytrain)   "
   ]
  },
  {
   "cell_type": "code",
   "execution_count": 12,
   "metadata": {
    "collapsed": true
   },
   "outputs": [],
   "source": [
    "#import graph plot library\n",
    "\n",
    "import matplotlib\n",
    "import matplotlib.pyplot as plt\n",
    "%matplotlib inline"
   ]
  },
  {
   "cell_type": "code",
   "execution_count": 13,
   "metadata": {},
   "outputs": [
    {
     "name": "stdout",
     "output_type": "stream",
     "text": [
      "[[ -5.16482752e-01]\n",
      " [  4.40977352e-02]\n",
      " [  1.99510758e-02]\n",
      " [  4.31632202e-03]\n",
      " [ -3.47110740e-05]]\n"
     ]
    }
   ],
   "source": [
    "w=logregr.coef_.T  #Printing the logistic regression coefficient values\n",
    "\n",
    "print(w)"
   ]
  },
  {
   "cell_type": "markdown",
   "metadata": {},
   "source": [
    "Plotting the relative importance of Logistic Coefficients"
   ]
  },
  {
   "cell_type": "code",
   "execution_count": 14,
   "metadata": {},
   "outputs": [
    {
     "data": {
      "text/plain": [
       "<matplotlib.text.Text at 0x11c18aa58>"
      ]
     },
     "execution_count": 14,
     "metadata": {},
     "output_type": "execute_result"
    },
    {
     "data": {
      "image/png": "[encoded data removed]",
      "text/plain": [
       "<matplotlib.figure.Figure at 0x11c0cd240>"
      ]
     },
     "metadata": {},
     "output_type": "display_data"
    }
   ],
   "source": [
    "features=[\"Temperature\",\"Humidity\", \"Light\", \"CO2\",\"HumidityRatio\"]\n",
    "plt.stem(w)\n",
    "plt.xlabel(features)\n",
    "plt.ylabel('Values')\n",
    "plt.title('Logistic Coefficients \\n')"
   ]
  },
  {
   "cell_type": "markdown",
   "metadata": {},
   "source": [
    "# Test dataset 1\n",
    "\n",
    "Now we will apply our trained logistic regression model to our test datasets."
   ]
  },
  {
   "cell_type": "code",
   "execution_count": 15,
   "metadata": {
    "collapsed": true
   },
   "outputs": [],
   "source": [
    "#reading the given Datatest,csv file\n",
    "\n",
    "df1=pd.read_csv('datatest.csv', header=0, delim_whitespace=False, index_col=None)"
   ]
  },
  {
   "cell_type": "code",
   "execution_count": 16,
   "metadata": {},
   "outputs": [
    {
     "data": {
      "text/html": [
       "<div>\n",
       "<style>\n",
       "    .dataframe thead tr:only-child th {\n",
       "        text-align: right;\n",
       "    }\n",
       "\n",
       "    .dataframe thead th {\n",
       "        text-align: left;\n",
       "    }\n",
       "\n",
       "    .dataframe tbody tr th {\n",
       "        vertical-align: top;\n",
       "    }\n",
       "</style>\n",
       "<table border=\"1\" class=\"dataframe\">\n",
       "  <thead>\n",
       "    <tr style=\"text-align: right;\">\n",
       "      <th></th>\n",
       "      <th>No.</th>\n",
       "      <th>date</th>\n",
       "      <th>Temperature</th>\n",
       "      <th>Humidity</th>\n",
       "      <th>Light</th>\n",
       "      <th>CO2</th>\n",
       "      <th>HumidityRatio</th>\n",
       "      <th>Occupancy</th>\n",
       "    </tr>\n",
       "  </thead>\n",
       "  <tbody>\n",
       "    <tr>\n",
       "      <th>0</th>\n",
       "      <td>140</td>\n",
       "      <td>2/2/15 14:19</td>\n",
       "      <td>23.7000</td>\n",
       "      <td>26.272</td>\n",
       "      <td>585.200000</td>\n",
       "      <td>749.200000</td>\n",
       "      <td>0.004764</td>\n",
       "      <td>1</td>\n",
       "    </tr>\n",
       "    <tr>\n",
       "      <th>1</th>\n",
       "      <td>141</td>\n",
       "      <td>2/2/15 14:19</td>\n",
       "      <td>23.7180</td>\n",
       "      <td>26.290</td>\n",
       "      <td>578.400000</td>\n",
       "      <td>760.400000</td>\n",
       "      <td>0.004773</td>\n",
       "      <td>1</td>\n",
       "    </tr>\n",
       "    <tr>\n",
       "      <th>2</th>\n",
       "      <td>142</td>\n",
       "      <td>2/2/15 14:21</td>\n",
       "      <td>23.7300</td>\n",
       "      <td>26.230</td>\n",
       "      <td>572.666667</td>\n",
       "      <td>769.666667</td>\n",
       "      <td>0.004765</td>\n",
       "      <td>1</td>\n",
       "    </tr>\n",
       "    <tr>\n",
       "      <th>3</th>\n",
       "      <td>143</td>\n",
       "      <td>2/2/15 14:22</td>\n",
       "      <td>23.7225</td>\n",
       "      <td>26.125</td>\n",
       "      <td>493.750000</td>\n",
       "      <td>774.750000</td>\n",
       "      <td>0.004744</td>\n",
       "      <td>1</td>\n",
       "    </tr>\n",
       "    <tr>\n",
       "      <th>4</th>\n",
       "      <td>144</td>\n",
       "      <td>2/2/15 14:23</td>\n",
       "      <td>23.7540</td>\n",
       "      <td>26.200</td>\n",
       "      <td>488.600000</td>\n",
       "      <td>779.000000</td>\n",
       "      <td>0.004767</td>\n",
       "      <td>1</td>\n",
       "    </tr>\n",
       "    <tr>\n",
       "      <th>5</th>\n",
       "      <td>145</td>\n",
       "      <td>2/2/15 14:23</td>\n",
       "      <td>23.7600</td>\n",
       "      <td>26.260</td>\n",
       "      <td>568.666667</td>\n",
       "      <td>790.000000</td>\n",
       "      <td>0.004779</td>\n",
       "      <td>1</td>\n",
       "    </tr>\n",
       "  </tbody>\n",
       "</table>\n",
       "</div>"
      ],
      "text/plain": [
       "   No.          date  Temperature  Humidity       Light         CO2  \\\n",
       "0  140  2/2/15 14:19      23.7000    26.272  585.200000  749.200000   \n",
       "1  141  2/2/15 14:19      23.7180    26.290  578.400000  760.400000   \n",
       "2  142  2/2/15 14:21      23.7300    26.230  572.666667  769.666667   \n",
       "3  143  2/2/15 14:22      23.7225    26.125  493.750000  774.750000   \n",
       "4  144  2/2/15 14:23      23.7540    26.200  488.600000  779.000000   \n",
       "5  145  2/2/15 14:23      23.7600    26.260  568.666667  790.000000   \n",
       "\n",
       "   HumidityRatio  Occupancy  \n",
       "0       0.004764          1  \n",
       "1       0.004773          1  \n",
       "2       0.004765          1  \n",
       "3       0.004744          1  \n",
       "4       0.004767          1  \n",
       "5       0.004779          1  "
      ]
     },
     "execution_count": 16,
     "metadata": {},
     "output_type": "execute_result"
    }
   ],
   "source": [
    "df1.head(6)   #checking our data"
   ]
  },
  {
   "cell_type": "code",
   "execution_count": 17,
   "metadata": {},
   "outputs": [],
   "source": [
    "yts1=df1['Occupancy']  #extracting our target test dataset\n"
   ]
  },
  {
   "cell_type": "code",
   "execution_count": 18,
   "metadata": {},
   "outputs": [
    {
     "name": "stdout",
     "output_type": "stream",
     "text": [
      "The shape of our target test dataset: (2665,)\n"
     ]
    }
   ],
   "source": [
    "print('The shape of our target test dataset:', yts1.shape)"
   ]
  },
  {
   "cell_type": "code",
   "execution_count": 19,
   "metadata": {},
   "outputs": [],
   "source": [
    "xts1=df1[['Temperature','Humidity','Light','CO2','HumidityRatio']]  #extracting our features test dataset\n"
   ]
  },
  {
   "cell_type": "code",
   "execution_count": 20,
   "metadata": {},
   "outputs": [
    {
     "name": "stdout",
     "output_type": "stream",
     "text": [
      "The shape of our features test dataset: (2665, 5)\n"
     ]
    }
   ],
   "source": [
    "print('The shape of our features test dataset:', xts1.shape)"
   ]
  },
  {
   "cell_type": "code",
   "execution_count": 21,
   "metadata": {
    "collapsed": true
   },
   "outputs": [],
   "source": [
    "#Predicting the trained model on our test dataset\n",
    "\n",
    "yhat1=logregr.predict(xts1)  "
   ]
  },
  {
   "cell_type": "code",
   "execution_count": 22,
   "metadata": {},
   "outputs": [
    {
     "name": "stdout",
     "output_type": "stream",
     "text": [
      "0.978236397749\n"
     ]
    }
   ],
   "source": [
    "#Calculating the accuracy of our trained model\n",
    "\n",
    "acc1= np.mean(yhat1==yts1)\n",
    "print(acc1)"
   ]
  },
  {
   "cell_type": "markdown",
   "metadata": {},
   "source": [
    "Importing classification report and confusion matrix to check our model efficiency.\n",
    "\n"
   ]
  },
  {
   "cell_type": "code",
   "execution_count": 23,
   "metadata": {},
   "outputs": [
    {
     "name": "stdout",
     "output_type": "stream",
     "text": [
      "\n",
      " classification report: \n",
      "\n",
      "              precision    recall  f1-score   support\n",
      "\n",
      "    class 0       1.00      0.97      0.98      1693\n",
      "    class 1       0.95      1.00      0.97       972\n",
      "\n",
      "avg / total       0.98      0.98      0.98      2665\n",
      "\n",
      "\n",
      " confusion matrix: \n",
      "\n",
      " [[1638   55]\n",
      " [   3  969]]\n"
     ]
    }
   ],
   "source": [
    "from sklearn.metrics import classification_report, confusion_matrix\n",
    "\n",
    "print('\\n classification report: \\n\\n', classification_report(yts1,yhat1,target_names=['class 0','class 1']))\n",
    "print('\\n confusion matrix: \\n\\n', confusion_matrix(yts1,yhat1))"
   ]
  },
  {
   "cell_type": "code",
   "execution_count": 24,
   "metadata": {},
   "outputs": [
    {
     "data": {
      "text/plain": [
       "<matplotlib.text.Text at 0x11c61dd68>"
      ]
     },
     "execution_count": 24,
     "metadata": {},
     "output_type": "execute_result"
    },
    {
     "data": {
      "image/png": "[encoded data removed]",
      "text/plain": [
       "<matplotlib.figure.Figure at 0x11c258208>"
      ]
     },
     "metadata": {},
     "output_type": "display_data"
    }
   ],
   "source": [
    "#importing seaborn package for plotting.\n",
    "import seaborn as sn\n",
    "\n",
    "cm=confusion_matrix(yts1,yhat1)\n",
    "plt.figure(figsize=(5,5))\n",
    "sn.heatmap(cm,annot=True, linewidth=1.5, square=True, cmap='Blues_r')\n",
    "plt.ylabel('Actual values')\n",
    "plt.xlabel('Predicted Values')\n",
    "plt.title('Accuracy:{0}\\n'.format(acc1))"
   ]
  },
  {
   "cell_type": "markdown",
   "metadata": {},
   "source": [
    "Test Dataset-1 Accuracy=97.8%"
   ]
  },
  {
   "cell_type": "markdown",
   "metadata": {},
   "source": [
    "Testing our model for Test Dataset 2"
   ]
  },
  {
   "cell_type": "markdown",
   "metadata": {},
   "source": [
    "# Test dataset 2"
   ]
  },
  {
   "cell_type": "code",
   "execution_count": 25,
   "metadata": {
    "collapsed": true
   },
   "outputs": [],
   "source": [
    "#Reading our second test dataset points.\n",
    "\n",
    "df2= pd.read_csv('datatest2.csv', header=0, delim_whitespace=False, index_col=None)"
   ]
  },
  {
   "cell_type": "code",
   "execution_count": 26,
   "metadata": {},
   "outputs": [
    {
     "data": {
      "text/html": [
       "<div>\n",
       "<style>\n",
       "    .dataframe thead tr:only-child th {\n",
       "        text-align: right;\n",
       "    }\n",
       "\n",
       "    .dataframe thead th {\n",
       "        text-align: left;\n",
       "    }\n",
       "\n",
       "    .dataframe tbody tr th {\n",
       "        vertical-align: top;\n",
       "    }\n",
       "</style>\n",
       "<table border=\"1\" class=\"dataframe\">\n",
       "  <thead>\n",
       "    <tr style=\"text-align: right;\">\n",
       "      <th></th>\n",
       "      <th>No.</th>\n",
       "      <th>date</th>\n",
       "      <th>Temperature</th>\n",
       "      <th>Humidity</th>\n",
       "      <th>Light</th>\n",
       "      <th>CO2</th>\n",
       "      <th>HumidityRatio</th>\n",
       "      <th>Occupancy</th>\n",
       "    </tr>\n",
       "  </thead>\n",
       "  <tbody>\n",
       "    <tr>\n",
       "      <th>0</th>\n",
       "      <td>1</td>\n",
       "      <td>2/11/15 14:48</td>\n",
       "      <td>21.7600</td>\n",
       "      <td>31.133333</td>\n",
       "      <td>437.333333</td>\n",
       "      <td>1029.666667</td>\n",
       "      <td>0.005021</td>\n",
       "      <td>1</td>\n",
       "    </tr>\n",
       "    <tr>\n",
       "      <th>1</th>\n",
       "      <td>2</td>\n",
       "      <td>2/11/15 14:49</td>\n",
       "      <td>21.7900</td>\n",
       "      <td>31.000000</td>\n",
       "      <td>437.333333</td>\n",
       "      <td>1000.000000</td>\n",
       "      <td>0.005009</td>\n",
       "      <td>1</td>\n",
       "    </tr>\n",
       "    <tr>\n",
       "      <th>2</th>\n",
       "      <td>3</td>\n",
       "      <td>2/11/15 14:50</td>\n",
       "      <td>21.7675</td>\n",
       "      <td>31.122500</td>\n",
       "      <td>434.000000</td>\n",
       "      <td>1003.750000</td>\n",
       "      <td>0.005022</td>\n",
       "      <td>1</td>\n",
       "    </tr>\n",
       "    <tr>\n",
       "      <th>3</th>\n",
       "      <td>4</td>\n",
       "      <td>2/11/15 14:51</td>\n",
       "      <td>21.7675</td>\n",
       "      <td>31.122500</td>\n",
       "      <td>439.000000</td>\n",
       "      <td>1009.500000</td>\n",
       "      <td>0.005022</td>\n",
       "      <td>1</td>\n",
       "    </tr>\n",
       "    <tr>\n",
       "      <th>4</th>\n",
       "      <td>5</td>\n",
       "      <td>2/11/15 14:51</td>\n",
       "      <td>21.7900</td>\n",
       "      <td>31.133333</td>\n",
       "      <td>437.333333</td>\n",
       "      <td>1005.666667</td>\n",
       "      <td>0.005030</td>\n",
       "      <td>1</td>\n",
       "    </tr>\n",
       "    <tr>\n",
       "      <th>5</th>\n",
       "      <td>6</td>\n",
       "      <td>2/11/15 14:53</td>\n",
       "      <td>21.7600</td>\n",
       "      <td>31.260000</td>\n",
       "      <td>437.333333</td>\n",
       "      <td>1014.333333</td>\n",
       "      <td>0.005042</td>\n",
       "      <td>1</td>\n",
       "    </tr>\n",
       "  </tbody>\n",
       "</table>\n",
       "</div>"
      ],
      "text/plain": [
       "   No.           date  Temperature   Humidity       Light          CO2  \\\n",
       "0    1  2/11/15 14:48      21.7600  31.133333  437.333333  1029.666667   \n",
       "1    2  2/11/15 14:49      21.7900  31.000000  437.333333  1000.000000   \n",
       "2    3  2/11/15 14:50      21.7675  31.122500  434.000000  1003.750000   \n",
       "3    4  2/11/15 14:51      21.7675  31.122500  439.000000  1009.500000   \n",
       "4    5  2/11/15 14:51      21.7900  31.133333  437.333333  1005.666667   \n",
       "5    6  2/11/15 14:53      21.7600  31.260000  437.333333  1014.333333   \n",
       "\n",
       "   HumidityRatio  Occupancy  \n",
       "0       0.005021          1  \n",
       "1       0.005009          1  \n",
       "2       0.005022          1  \n",
       "3       0.005022          1  \n",
       "4       0.005030          1  \n",
       "5       0.005042          1  "
      ]
     },
     "execution_count": 26,
     "metadata": {},
     "output_type": "execute_result"
    }
   ],
   "source": [
    "df2.head(6)"
   ]
  },
  {
   "cell_type": "code",
   "execution_count": 27,
   "metadata": {},
   "outputs": [],
   "source": [
    "yts2=df2['Occupancy']"
   ]
  },
  {
   "cell_type": "code",
   "execution_count": 28,
   "metadata": {},
   "outputs": [
    {
     "name": "stdout",
     "output_type": "stream",
     "text": [
      "The shape of our target test dataset: (9752,)\n"
     ]
    }
   ],
   "source": [
    "print('The shape of our target test dataset:', yts2.shape)"
   ]
  },
  {
   "cell_type": "code",
   "execution_count": 29,
   "metadata": {},
   "outputs": [],
   "source": [
    "xts2=df2[['Temperature','Humidity','Light','CO2','HumidityRatio']]\n"
   ]
  },
  {
   "cell_type": "code",
   "execution_count": 30,
   "metadata": {},
   "outputs": [
    {
     "name": "stdout",
     "output_type": "stream",
     "text": [
      "The shape of our features test dataset: (9752, 5)\n"
     ]
    }
   ],
   "source": [
    "print('The shape of our features test dataset:', xts2.shape)"
   ]
  },
  {
   "cell_type": "code",
   "execution_count": 31,
   "metadata": {
    "collapsed": true
   },
   "outputs": [],
   "source": [
    "#predicting the trained model on our second datasets.\n",
    "\n",
    "yhat2=logregr.predict(xts2)"
   ]
  },
  {
   "cell_type": "code",
   "execution_count": 32,
   "metadata": {},
   "outputs": [
    {
     "name": "stdout",
     "output_type": "stream",
     "text": [
      "0.992924528302\n"
     ]
    }
   ],
   "source": [
    "#calculating the accuracy of our model on second dataset\n",
    "\n",
    "acc2=np.mean(yhat2==yts2)\n",
    "print(acc2)"
   ]
  },
  {
   "cell_type": "markdown",
   "metadata": {},
   "source": [
    "Applying classification and confusion matrix to check the efficiency of our model."
   ]
  },
  {
   "cell_type": "code",
   "execution_count": 33,
   "metadata": {},
   "outputs": [
    {
     "name": "stdout",
     "output_type": "stream",
     "text": [
      "\n",
      " classification report: \n",
      "\n",
      "              precision    recall  f1-score   support\n",
      "\n",
      "    class 0       1.00      0.99      1.00      7703\n",
      "    class 1       0.97      0.99      0.98      2049\n",
      "\n",
      "avg / total       0.99      0.99      0.99      9752\n",
      "\n",
      "\n",
      " confusion_matrix: \n",
      "\n",
      " [[7646   57]\n",
      " [  12 2037]]\n"
     ]
    }
   ],
   "source": [
    "print('\\n classification report: \\n\\n',classification_report(yts2,yhat2, target_names=['class 0','class 1']))\n",
    "print('\\n confusion_matrix: \\n\\n', confusion_matrix(yts2,yhat2))"
   ]
  },
  {
   "cell_type": "code",
   "execution_count": 34,
   "metadata": {},
   "outputs": [
    {
     "data": {
      "text/plain": [
       "<matplotlib.text.Text at 0x11cb8d4e0>"
      ]
     },
     "execution_count": 34,
     "metadata": {},
     "output_type": "execute_result"
    },
    {
     "data": {
      "image/png": "[encoded data removed]",
      "text/plain": [
       "<matplotlib.figure.Figure at 0x11b3637f0>"
      ]
     },
     "metadata": {},
     "output_type": "display_data"
    }
   ],
   "source": [
    "#Plotting our confusion matrix.\n",
    "\n",
    "cm2= confusion_matrix(yts2,yhat2)\n",
    "plt.figure(figsize=(5,5))\n",
    "sn.heatmap(cm2, annot=True, linewidth=1.5, cmap='Blues_r')\n",
    "plt.ylabel('Actual values')\n",
    "plt.xlabel('Predited values')\n",
    "plt.title('Accuracy:{0}\\n'.format(acc2))"
   ]
  },
  {
   "cell_type": "markdown",
   "metadata": {},
   "source": [
    "Test Dataset-2 Accuracy=99.2%"
   ]
  },
  {
   "cell_type": "markdown",
   "metadata": {},
   "source": [
    "Let's check the performance from our randomForest Classifier"
   ]
  },
  {
   "cell_type": "markdown",
   "metadata": {},
   "source": [
    "# Random Forest Classifier Model\n",
    "\n",
    "Training our second model: Random Forest Classifier Model"
   ]
  },
  {
   "cell_type": "code",
   "execution_count": 35,
   "metadata": {},
   "outputs": [],
   "source": [
    "from sklearn.ensemble import RandomForestClassifier\n",
    "\n"
   ]
  },
  {
   "cell_type": "code",
   "execution_count": 36,
   "metadata": {
    "collapsed": true
   },
   "outputs": [],
   "source": [
    "#Creating a RandomForest Classifier variable\n",
    "\n",
    "rf=RandomForestClassifier(n_estimators=100,random_state=42)\n"
   ]
  },
  {
   "cell_type": "code",
   "execution_count": 37,
   "metadata": {},
   "outputs": [
    {
     "data": {
      "text/plain": [
       "RandomForestClassifier(bootstrap=True, class_weight=None, criterion='gini',\n",
       "            max_depth=None, max_features='auto', max_leaf_nodes=None,\n",
       "            min_impurity_split=1e-07, min_samples_leaf=1,\n",
       "            min_samples_split=2, min_weight_fraction_leaf=0.0,\n",
       "            n_estimators=100, n_jobs=1, oob_score=False, random_state=42,\n",
       "            verbose=0, warm_start=False)"
      ]
     },
     "execution_count": 37,
     "metadata": {},
     "output_type": "execute_result"
    }
   ],
   "source": [
    "#Fitting our model to the training set\n",
    "\n",
    "rf.fit(xtrain,ytrain)"
   ]
  },
  {
   "cell_type": "code",
   "execution_count": 38,
   "metadata": {},
   "outputs": [
    {
     "data": {
      "text/plain": [
       "array([ 0.09559691,  0.02710241,  0.59774392,  0.24718977,  0.03236699])"
      ]
     },
     "execution_count": 38,
     "metadata": {},
     "output_type": "execute_result"
    }
   ],
   "source": [
    "rf.feature_importances_"
   ]
  },
  {
   "cell_type": "markdown",
   "metadata": {},
   "source": [
    "This depicts the importance and contribution of each feature towards our prediction."
   ]
  },
  {
   "cell_type": "code",
   "execution_count": 39,
   "metadata": {},
   "outputs": [
    {
     "data": {
      "text/plain": [
       "<matplotlib.axes._subplots.AxesSubplot at 0x11d3069e8>"
      ]
     },
     "execution_count": 39,
     "metadata": {},
     "output_type": "execute_result"
    },
    {
     "data": {
      "image/png": "[encoded data removed]",
      "text/plain": [
       "<matplotlib.figure.Figure at 0x11d306160>"
      ]
     },
     "metadata": {},
     "output_type": "display_data"
    }
   ],
   "source": [
    "feature_importance=pd.Series(rf.feature_importances_ , index=xtrain.columns)\n",
    "feature_importance.plot(kind='barh', figsize=(7,7))"
   ]
  },
  {
   "cell_type": "markdown",
   "metadata": {},
   "source": [
    "# Test dataset 1"
   ]
  },
  {
   "cell_type": "code",
   "execution_count": 40,
   "metadata": {},
   "outputs": [],
   "source": [
    "#Predicting our model on first test dataset\n",
    "\n",
    "yhat_rf1=rf.predict(xts1)"
   ]
  },
  {
   "cell_type": "markdown",
   "metadata": {},
   "source": [
    "Checking our model accuracy"
   ]
  },
  {
   "cell_type": "code",
   "execution_count": 41,
   "metadata": {},
   "outputs": [
    {
     "name": "stdout",
     "output_type": "stream",
     "text": [
      "0.953470919325\n"
     ]
    }
   ],
   "source": [
    "acc_rf1=np.mean(yhat_rf1==yts1)\n",
    "print(acc_rf1)"
   ]
  },
  {
   "cell_type": "markdown",
   "metadata": {},
   "source": [
    "Analyzing our model efficiency through classification report and confusion matrix."
   ]
  },
  {
   "cell_type": "code",
   "execution_count": 42,
   "metadata": {},
   "outputs": [
    {
     "name": "stdout",
     "output_type": "stream",
     "text": [
      "Classification report :\n",
      "              precision    recall  f1-score   support\n",
      "\n",
      "    Class 0       0.96      0.97      0.96      1693\n",
      "    Class 1       0.94      0.93      0.94       972\n",
      "\n",
      "avg / total       0.95      0.95      0.95      2665\n",
      "\n",
      "Confusion matrix :\n",
      "\n",
      " [[1640   53]\n",
      " [  71  901]]\n"
     ]
    }
   ],
   "source": [
    "print('Classification report :\\n', classification_report(yts1,yhat_rf1,target_names=['Class 0','Class 1']))\n",
    "print('Confusion matrix :\\n\\n', confusion_matrix(yts1,yhat_rf1))"
   ]
  },
  {
   "cell_type": "code",
   "execution_count": 43,
   "metadata": {},
   "outputs": [
    {
     "data": {
      "text/plain": [
       "<matplotlib.text.Text at 0x11d402748>"
      ]
     },
     "execution_count": 43,
     "metadata": {},
     "output_type": "execute_result"
    },
    {
     "data": {
      "image/png": "[encoded data removed]",
      "text/plain": [
       "<matplotlib.figure.Figure at 0x11ca93828>"
      ]
     },
     "metadata": {},
     "output_type": "display_data"
    }
   ],
   "source": [
    "#Analysing the confusion matrix graphically.\n",
    "\n",
    "cm_rf1=confusion_matrix(yts1,yhat_rf1)\n",
    "plt.figure(figsize=(5,5))\n",
    "sn.heatmap(cm_rf1,annot=True,linewidth=1.5,cmap='Blues_r')\n",
    "plt.ylabel('Actual values')\n",
    "plt.xlabel('Predicted values')\n",
    "plt.title('Accuracy{0}: \\n'.format(acc_rf1))"
   ]
  },
  {
   "cell_type": "markdown",
   "metadata": {},
   "source": [
    "Test dataset-1 Accuracy=95.3%"
   ]
  },
  {
   "cell_type": "markdown",
   "metadata": {},
   "source": [
    "# Test Dataset 2"
   ]
  },
  {
   "cell_type": "code",
   "execution_count": 44,
   "metadata": {
    "collapsed": true
   },
   "outputs": [],
   "source": [
    "#Predicting on second test dataset\n",
    "\n",
    "yhat_rf2=rf.predict(xts2)"
   ]
  },
  {
   "cell_type": "code",
   "execution_count": 45,
   "metadata": {},
   "outputs": [
    {
     "name": "stdout",
     "output_type": "stream",
     "text": [
      "0.972210828548\n"
     ]
    }
   ],
   "source": [
    "#the accuracy of our model\n",
    "\n",
    "acc_rf2=np.mean(yhat_rf2==yts2)\n",
    "print(acc_rf2)"
   ]
  },
  {
   "cell_type": "code",
   "execution_count": 46,
   "metadata": {},
   "outputs": [
    {
     "name": "stdout",
     "output_type": "stream",
     "text": [
      "Classification report :\n",
      "\n",
      "              precision    recall  f1-score   support\n",
      "\n",
      "    Class 0       1.00      0.97      0.98      7703\n",
      "    Class 1       0.89      1.00      0.94      2049\n",
      "\n",
      "avg / total       0.98      0.97      0.97      9752\n",
      "\n",
      "Confusion matrix :\n",
      "\n",
      " [[7439  264]\n",
      " [   7 2042]]\n"
     ]
    }
   ],
   "source": [
    "#analysing the model efficiency using classification report and confusion matrix.\n",
    "\n",
    "print('Classification report :\\n\\n', classification_report(yts2,yhat_rf2,target_names=['Class 0','Class 1']))\n",
    "print('Confusion matrix :\\n\\n', confusion_matrix(yts2,yhat_rf2))"
   ]
  },
  {
   "cell_type": "code",
   "execution_count": 47,
   "metadata": {},
   "outputs": [
    {
     "data": {
      "text/plain": [
       "<matplotlib.text.Text at 0x118918710>"
      ]
     },
     "execution_count": 47,
     "metadata": {},
     "output_type": "execute_result"
    },
    {
     "data": {
      "image/png": "[encoded data removed]",
      "text/plain": [
       "<matplotlib.figure.Figure at 0x11d0c82b0>"
      ]
     },
     "metadata": {},
     "output_type": "display_data"
    }
   ],
   "source": [
    "#Confusion matrix graphically.\n",
    "\n",
    "cm_rf2=confusion_matrix(yts2,yhat_rf2)\n",
    "plt.figure(figsize=(5,5))\n",
    "sn.heatmap(cm_rf2,annot=True,linewidth=1.5,cmap='Blues_r')\n",
    "plt.ylabel('Actual values')\n",
    "plt.xlabel('Predicted values')\n",
    "plt.title('Accuracy{0}: \\n'.format(acc_rf2))"
   ]
  },
  {
   "cell_type": "markdown",
   "metadata": {},
   "source": [
    "Test Dataset-2 Accuracy=97.2%"
   ]
  },
  {
   "cell_type": "markdown",
   "metadata": {},
   "source": [
    "# Logistic Classifier vs RandomForest Classifier "
   ]
  },
  {
   "cell_type": "code",
   "execution_count": 48,
   "metadata": {},
   "outputs": [],
   "source": [
    "#Appending all the respective model accuracies in a list.\n",
    "\n",
    "results=[]\n",
    "results.append(acc1)\n",
    "results.append(acc2)\n",
    "results.append(acc_rf1)\n",
    "results.append(acc_rf2)\n",
    "names=[\"LC-T1\",\"LC-T2\",\"RF-T1\",\"RF-T2\"]\n"
   ]
  },
  {
   "cell_type": "markdown",
   "metadata": {},
   "source": [
    "# Comparing Model Accuracies graphically"
   ]
  },
  {
   "cell_type": "code",
   "execution_count": 49,
   "metadata": {},
   "outputs": [
    {
     "data": {
      "text/plain": [
       "<matplotlib.text.Text at 0x118b5aeb8>"
      ]
     },
     "execution_count": 49,
     "metadata": {},
     "output_type": "execute_result"
    },
    {
     "data": {
      "image/png": "[encoded data removed]",
      "text/plain": [
       "<matplotlib.figure.Figure at 0x11d3f9358>"
      ]
     },
     "metadata": {},
     "output_type": "display_data"
    }
   ],
   "source": [
    "plt.figure(figsize=(7,7))\n",
    "\n",
    "sn.boxplot(x=names, y=results)\n",
    "plt.xlabel('\\n \\n 1: Logistic test case 1 \\n 2: Logistic Test case 2 \\n 3: RandomForest Test case 1 \\n 4: RandomForest Test case 2')\n",
    "plt.ylabel('Accuracy')\n",
    "plt.title('Comparing Accuracy \\n')"
   ]
  },
  {
   "cell_type": "markdown",
   "metadata": {},
   "source": [
    "# Analysis\n",
    "\n",
    "Logistic Classifier and RandomForest Classifier performed very well on test datasets with over 95% accuracy.\n",
    "\n",
    "We also analysed a very insightful result:\n",
    "\n",
    "1) The Logistic classifier coefficient has Temperature and Humidity as their leading features in importance rank.\n",
    "\n",
    "2) The RandomForest Classifier coefficient has Light and CO2 as their leading features in importance rank.\n",
    "\n",
    "The paper published by Luis M Candanedo and Veronique Feldheim has established that :\n",
    "\n",
    "RandomForest classifier accuracy on test-set 1 - 95.3% \n",
    "\n",
    "RandomForest Classifier accuracy on test-set 2 - 97.2%\n",
    "\n",
    "Thus, as the above results, we have achieved the same accuracies as it was established in paper.\n",
    "\n",
    "Logistic Regression Classifier was not used in the paper.\n",
    "The paper mentioned that Logistic Classifier outputs were not stable.\n",
    "\n",
    "The Logistic classifier achieved 97.8% on test-set 1 and 99.2% in test-set 2.\n",
    "\n",
    "Thus, Logistic Classifier outperformed the RandomForest Classifier by a few margin.\n",
    "\n",
    "\n"
   ]
  }
 ],
 "metadata": {
  "kernelspec": {
   "display_name": "Python 3",
   "language": "python",
   "name": "python3"
  },
  "language_info": {
   "codemirror_mode": {
    "name": "ipython",
    "version": 3
   },
   "file_extension": ".py",
   "mimetype": "text/x-python",
   "name": "python",
   "nbconvert_exporter": "python",
   "pygments_lexer": "ipython3",
   "version": "3.6.1"
  }
 },
 "nbformat": 4,
 "nbformat_minor": 2
}
